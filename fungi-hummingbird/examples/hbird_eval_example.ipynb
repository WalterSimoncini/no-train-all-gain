{
  "cells": [
    {
      "cell_type": "markdown",
      "metadata": {
        "id": "xutc-cbBj3dH"
      },
      "source": [
        "## Example on how to evaluate a vision encoder with the Hummingbird or Dense NN Retrieval Evaluation"
      ]
    },
    {
      "cell_type": "markdown",
      "metadata": {},
      "source": [
        "<a href=\"https://githubtocolab.com/vpariza/open-hummingbird-eval/blob/main/examples/hbird_eval_example.ipynb\">\n",
        "  <img src=\"https://colab.research.google.com/assets/colab-badge.svg\" alt=\"Open In Colab\"/>\n",
        "</a>"
      ]
    },
    {
      "cell_type": "markdown",
      "metadata": {
        "id": "ixaUSRg4kBZo"
      },
      "source": [
        "### 1. Install required Libraries"
      ]
    },
    {
      "cell_type": "code",
      "execution_count": null,
      "metadata": {
        "id": "S2twjreBOgfP"
      },
      "outputs": [],
      "source": [
        "!pip install torchmetrics\n",
        "!pip install scann\n",
        "# Restart your session after installing the packages"
      ]
    },
    {
      "cell_type": "markdown",
      "metadata": {
        "id": "n1DoQXmfkHdr"
      },
      "source": [
        "### 2. Clone our repository"
      ]
    },
    {
      "cell_type": "code",
      "execution_count": null,
      "metadata": {
        "id": "hSNBEsjWYH58"
      },
      "outputs": [],
      "source": [
        "!git clone https://github.com/vpariza/open-hummingbird-eval.git"
      ]
    },
    {
      "cell_type": "code",
      "execution_count": null,
      "metadata": {
        "id": "B9t4oTA4YLAN"
      },
      "outputs": [],
      "source": [
        "# Move to the repository folder\n",
        "%cd open-hummingbird-eval"
      ]
    },
    {
      "cell_type": "markdown",
      "metadata": {
        "id": "gZTwdFNni5qd"
      },
      "source": [
        "### 3. Download your preferred dataset"
      ]
    },
    {
      "cell_type": "code",
      "execution_count": null,
      "metadata": {
        "id": "IYRWameDkPSb"
      },
      "outputs": [],
      "source": [
        "# Used to delete previously downloaded and used\n",
        "# !rm -rf ./VOCSegmentation\n",
        "# !rm voc_data.zip"
      ]
    },
    {
      "cell_type": "markdown",
      "metadata": {
        "id": "0u6ugpZ4i-cx"
      },
      "source": [
        "#### Option 1: Tiny Pascal VOC"
      ]
    },
    {
      "cell_type": "code",
      "execution_count": null,
      "metadata": {
        "id": "DRcN5GxQRXwR"
      },
      "outputs": [],
      "source": [
        "# Download the tiny Pascal VOC - https://1drv.ms/u/s!AnBBK4_o1T9MdIuhcH4gbjsTdTY?e=spmlzg # tiny\n",
        "!wget -O voc_data.zip \"https://cpf5rw.am.files.1drv.com/y4mxW5pUDPP2WOVWXZYdhd5PK82qXcqQURFvVTXGSfEk8igihjx8oyA_iSmeuMnwLSyNwN601Jq9Ec9PyN3olpCCCoNtrgYg7DkvrXUXyI-mymjQiSR0kgRZDvRRUw4SD9i4QFTa-q5W_A7WahXU5v1XroWUU8bKDgUbY0xbBuX67xZr4HGDQiT5b0cr4iPQbt6NJlKkAyWdXUkIL37xpL3JQ\""
      ]
    },
    {
      "cell_type": "markdown",
      "metadata": {
        "id": "KfUOtdnSjDeg"
      },
      "source": [
        "#### Option 2: Mini Pascal VOC"
      ]
    },
    {
      "cell_type": "code",
      "execution_count": null,
      "metadata": {
        "id": "C9V-5ciTRrcH"
      },
      "outputs": [],
      "source": [
        "# Download the mini Pascal VOC - https://1drv.ms/u/s!AnBBK4_o1T9MdS8wbopnWowJcpM?e=VHhsFB # mini\n",
        "!wget -O voc_data.zip \"https://cphe0g.am.files.1drv.com/y4mUV45Lrel1tdHEu_hHhs_MlkJRu7UMJs_cfkPYHyg1tIYVfUwTh9kfATfcHuhrsv8rgXQ36QJ6JRR484GCSQ3n47nAngLCc_-cXJK-QH0Lu8oVJvzsioRdHIug3CdgLWNeLt3blNMs9U3HB6WR0R9GmiGJG-G0MfDg4DoQYA-dXu2LYUGLrBME_4REFDemURh0Gptvys0UGWKN5cPi43Zsw\""
      ]
    },
    {
      "cell_type": "markdown",
      "metadata": {
        "id": "bjiJpflZjOiR"
      },
      "source": [
        "#### Option 3: Pascal VOC"
      ]
    },
    {
      "cell_type": "code",
      "execution_count": null,
      "metadata": {
        "id": "Zgp3qp4NR75q"
      },
      "outputs": [],
      "source": [
        "# Download the full Pascal VOC - https://1drv.ms/u/s!AnBBK4_o1T9MbXrxhV7BpGdS8tk?e=P7G6F0 # full\n",
        "!wget -O voc_data.zip \"https://c2ymfq.am.files.1drv.com/y4mZqATCHOv_Z88obTJ_ZatMGDEx6ts5TzOyJnVLKqmkXZwdL_PKIMFLNmZR9FLFJ1CHMC6h_7bJjxlcUM8yXjG92Ms1X-95x6Dh90QgawSpYDPoE1gmLx3VwnW2amZZEog-omFd87fTKZqn3lpP_mtisDQsfDzruBgz_JHcSWsZd2jrsN2qoV3cJ5HammjY_im0ftfjwNOup1EuiWcQ9KT6A\""
      ]
    },
    {
      "cell_type": "markdown",
      "metadata": {
        "id": "TBoMdNrYjV48"
      },
      "source": [
        "### 4. Unzip Contents of zip Dataset"
      ]
    },
    {
      "cell_type": "code",
      "execution_count": null,
      "metadata": {
        "id": "YW_dHiWRR7Qe"
      },
      "outputs": [],
      "source": [
        "!unzip voc_data.zip"
      ]
    },
    {
      "cell_type": "markdown",
      "metadata": {
        "id": "Jpr8oXkLje11"
      },
      "source": [
        "### 5. Evaluate a preferred model on the downloaded dataset"
      ]
    },
    {
      "cell_type": "code",
      "execution_count": null,
      "metadata": {
        "id": "t_Izg08WLmtB"
      },
      "outputs": [],
      "source": [
        "import torch\n",
        "from src.hbird_eval import hbird_evaluation"
      ]
    },
    {
      "cell_type": "code",
      "execution_count": null,
      "metadata": {
        "id": "JbQdPNThK_RR"
      },
      "outputs": [],
      "source": [
        "# Parameters for the model dino\n",
        "device = 'cuda'\n",
        "input_size = 224\n",
        "batch_size = 64\n",
        "patch_size = 16\n",
        "embed_dim = 384\n",
        "model = torch.hub.load('facebookresearch/dino:main', 'dino_vits16')"
      ]
    },
    {
      "cell_type": "code",
      "execution_count": null,
      "metadata": {
        "id": "BtI_ZhTVO6Rw"
      },
      "outputs": [],
      "source": [
        "fn = lambda model, imgs: (model.get_intermediate_layers(imgs)[0][:, 1:], None)"
      ]
    },
    {
      "cell_type": "code",
      "execution_count": null,
      "metadata": {
        "id": "XzmpXeFQPAPO"
      },
      "outputs": [],
      "source": [
        "hbird_miou = hbird_evaluation(model.to(device),\n",
        "        d_model=embed_dim,        # size of the embedding feature vectors of patches\n",
        "        patch_size=patch_size,\n",
        "        batch_size = batch_size,\n",
        "        input_size=224,\n",
        "        augmentation_epoch=1,     # how many iterations of augmentations to use on top of the training dataset in order to generate the memory\n",
        "        device=device,\n",
        "        return_knn_details=False, # whether to return additional NNs details\n",
        "        num_neighbour=30,         # the number of neighbors to fetch per image patch\n",
        "        nn_params=None,           # Other parameters to be used for the k-NN operator\n",
        "        ftr_extr_fn=fn,           # function that extracts features from a vision encoder on images\n",
        "        dataset_name='voc',       # the name of the dataset to use, currently only Pascal VOC is included.\n",
        "        data_dir='./VOCSegmentation',    # path to the dataset to use for evaluation\n",
        "        memory_size=None)\n",
        "print('Hummingbird Evaluation (mIoU):', hbird_miou)"
      ]
    },
    {
      "cell_type": "code",
      "execution_count": null,
      "metadata": {
        "id": "59xgD07yvwrE"
      },
      "outputs": [],
      "source": []
    }
  ],
  "metadata": {
    "accelerator": "GPU",
    "colab": {
      "collapsed_sections": [
        "KfUOtdnSjDeg"
      ],
      "gpuType": "T4",
      "provenance": []
    },
    "kernelspec": {
      "display_name": "Python 3",
      "name": "python3"
    },
    "language_info": {
      "name": "python"
    }
  },
  "nbformat": 4,
  "nbformat_minor": 0
}
